{
 "cells": [
  {
   "cell_type": "code",
   "execution_count": 1,
   "id": "1e637ed3-b225-41e7-9b0c-b82a4890aa94",
   "metadata": {},
   "outputs": [],
   "source": [
    "import numpy as np\n",
    "import pandas as pd\n",
    "from scipy.stats import mode\n",
    "import matplotlib.pyplot as plt\n",
    "from sklearn.preprocessing import LabelEncoder\n",
    "from sklearn.model_selection import train_test_split, cross_val_score\n",
    "from sklearn.svm import SVC\n",
    "from sklearn.metrics import accuracy_score\n"
   ]
  },
  {
   "cell_type": "code",
   "execution_count": 2,
   "id": "7589e36e-4a6d-40db-b0a2-135f2ecfd241",
   "metadata": {},
   "outputs": [],
   "source": [
    "data= pd.read_csv(\"Training.csv\")\n",
    "data=pd.DataFrame(data)"
   ]
  },
  {
   "cell_type": "code",
   "execution_count": 3,
   "id": "f2183cd2-2c48-4788-ac70-4d31d5cc5d71",
   "metadata": {},
   "outputs": [],
   "source": [
    "encoder = LabelEncoder()\n",
    "data[\"prognosis\"] = encoder.fit_transform(data[\"prognosis\"])"
   ]
  },
  {
   "cell_type": "code",
   "execution_count": 4,
   "id": "1522f055-e7c0-4588-b3ea-6201a73528a9",
   "metadata": {},
   "outputs": [
    {
     "data": {
      "text/plain": [
       "132"
      ]
     },
     "execution_count": 4,
     "metadata": {},
     "output_type": "execute_result"
    }
   ],
   "source": [
    "x= data.drop([\"prognosis\",\"Unnamed: 133\"],axis=1)\n",
    "feature_names = list(x.columns)\n",
    "y =data[\"prognosis\"]\n",
    "len(feature_names)"
   ]
  },
  
  {
   "cell_type": "code",
   "execution_count": 6,
   "id": "dbcc4586-bd26-4491-bc53-e31a2738f7ea",
   "metadata": {},
   "outputs": [
    {
     "data": {
      "text/plain": [
       "(4920, 132)"
      ]
     },
     "execution_count": 6,
     "metadata": {},
     "output_type": "execute_result"
    }
   ],
   "source": [
    "x.shape"
   ]
  },
  {
   "cell_type": "code",
   "execution_count": 7,
   "id": "5162e83a-edee-4fba-a444-4725c4cc00ea",
   "metadata": {},
   "outputs": [],
   "source": [
    "X_train, X_test, y_train, y_test =train_test_split(\n",
    "  x, y, test_size = 0.2, random_state = 24)"
   ]
  },
  {
   "cell_type": "code",
   "execution_count": 8,
   "id": "2cdbf8cf-0737-4796-a7a8-5c1563c79c3f",
   "metadata": {},
   "outputs": [],
   "source": [
    "model=SVC()\n",
    "model.fit(X_train, y_train)\n",
    "y_pred=model.predict(X_test)"
   ]
  },
  {
   "cell_type": "code",
   "execution_count": 9,
   "id": "74ec2d3d-7996-4beb-ad2a-af4069e01743",
   "metadata": {},
   "outputs": [],
   "source": [
    "accuracy=accuracy_score(y_test,y_pred)"
   ]
  },
  {
   "cell_type": "code",
   "execution_count": 10,
   "id": "18eefdcf-eb97-49e0-a7c5-72a0ebcd47a3",
   "metadata": {},
   "outputs": [
    {
     "name": "stdout",
     "output_type": "stream",
     "text": [
      "accuracy : 100.0 %\n"
     ]
    }
   ],
   "source": [
    "print(\"accuracy :\",accuracy*100,\"%\")"
   ]
  },
  {
   "cell_type": "markdown",
   "id": "6388c018-92b6-4a3a-8bad-60e805687efd",
   "metadata": {},
   "source": [
    "# define a function which takes symptoms as input  and gives output as predicted disease "
   ]
  },
  {
   "cell_type": "code",
   "execution_count": 13,
   "id": "340a86fc-1ff1-4437-a1fb-1b967659458b",
   "metadata": {},
   "outputs": [],
   "source": [
    "import pandas as pd\n",
    "\n",
    "def predict_disease(symptoms):\n",
    "  \n",
    "    # Create a feature vector (all zeros)\n",
    "    input_vector = np.zeros(len(feature_names))\n",
    "\n",
    "    # Set 1 for symptoms present in input\n",
    "    for symptom in symptoms:\n",
    "        if symptom in feature_names:\n",
    "            idx = feature_names.index(symptom)\n",
    "            input_vector[idx] = 1  # Mark presence of symptom\n",
    "\n",
    "    # Convert to DataFrame with correct feature names\n",
    "    input_df = pd.DataFrame([input_vector], columns=feature_names)  # Use a list to keep (1,132) shape\n",
    "\n",
    "    # Predict disease\n",
    "    predicted_label = model.predict(input_df)[0]\n",
    "\n",
    "    # Decode disease name\n",
    "    predicted_disease = encoder.inverse_transform([predicted_label])[0]\n",
    "\n",
    "    return predicted_disease\n"
   ]
  },
  {
   "cell_type": "code",
   "execution_count": 14,
   "id": "3104a4fa-7a64-426e-b28c-60acbedf01a9",
   "metadata": {},
   "outputs": [
    {
     "name": "stdout",
     "output_type": "stream",
     "text": [
      "Predicted Disease: Fungal infection\n"
     ]
    }
   ],
   "source": [
    "# Example symptoms\n",
    "symptoms_input = [\"itching\", \"skin_rash\", \"nodal_skin_eruptions\"]\n",
    "\n",
    "# Call function\n",
    "predicted_disease = predict_disease(symptoms_input)\n",
    "\n",
    "print(\"Predicted Disease:\", predicted_disease)"
   ]
  },
  {
   "cell_type": "code",
   "execution_count": null,
   "id": "a8c1dbfe-1374-4d0f-9dfb-39bbae6cd1c8",
   "metadata": {},
   "outputs": [],
   "source": []
  }
 ],
 "metadata": {
  "kernelspec": {
   "display_name": "Python 3 (ipykernel)",
   "language": "python",
   "name": "python3"
  },
  "language_info": {
   "codemirror_mode": {
    "name": "ipython",
    "version": 3
   },
   "file_extension": ".py",
   "mimetype": "text/x-python",
   "name": "python",
   "nbconvert_exporter": "python",
   "pygments_lexer": "ipython3",
   "version": "3.11.3"
  }
 },
 "nbformat": 4,
 "nbformat_minor": 5
}
